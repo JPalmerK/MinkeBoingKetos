{
 "cells": [
  {
   "cell_type": "markdown",
   "metadata": {},
   "source": [
    "# North Atlantic Right Whale detector-part 1\n",
    "\n",
    "This is the first of a two parts tutorial illustrating how to build a deep learning acoustic detector with ketos.\n",
    "\n",
    "We'll use the database built in the [Creating a training database](https://docs.meridian.cs.dal.ca/ketos/tutorials/create_database_simpler/index.html) tutorial, in which we converted raw audio files to spectrograms of the North Atlantic Right Whale's stereotypical upcall.\n",
    "If you didn't follow that tutorial, you can find the resulting database in the .zip file linked at the top of this page. There you will also find an executable version of this jupyter notebook, in case you want to follow along.\n",
    "\n",
    "Our final goal is to have a detector that can take a long .wav file (e.g.: 30 min) and tell us where within that file are the right whales upcalls.\n",
    "\n",
    "The core part of such detector will be a binary classifer that takes 3-s long spectrograms and classifies them into \"contains an upcall\" or \"does not contain an upcall\". We will treat these two classes as \"1\" and \"0\". This is what we'll cover in this tutorial.\n",
    "\n",
    "The [second part](https://docs.meridian.cs.dal.ca/ketos/tutorials/create_a_narw_detector/index.html) will take this binary classifier and turn it into a detector.\n",
    "\n",
    "## Contents:\n",
    "\n",
    "[1. Importing the packages](#section1)  \n",
    "[2. Creating the data feed](#section2)  \n",
    "[3. Creating and training the Neural Network](#section3)  \n",
    " \n",
    "\n",
    "\n",
    "\n",
    "\n",
    "\n",
    "\n"
   ]
  },
  {
   "cell_type": "markdown",
   "metadata": {},
   "source": [
    "<a id=section1></a>"
   ]
  },
  {
   "cell_type": "markdown",
   "metadata": {},
   "source": [
    "The lines below define the random seeds used in the tutorial. This is necessary to ensure that you get the precisely the same results every time you run the code."
   ]
  },
  {
   "cell_type": "code",
   "execution_count": 1,
   "metadata": {},
   "outputs": [],
   "source": [
    "import numpy as np\n",
    "np.random.seed(1000)\n",
    "\n",
    "import tensorflow as tf\n",
    "tf.random.set_seed(2000)\n",
    "\n",
    "from pathlib import Path"
   ]
  },
  {
   "cell_type": "markdown",
   "metadata": {},
   "source": [
    "### 1. Importing the packages\n",
    "We start by importing the ketos modules and classes we will use throughout the tutorial."
   ]
  },
  {
   "cell_type": "code",
   "execution_count": 2,
   "metadata": {},
   "outputs": [
    {
     "name": "stderr",
     "output_type": "stream",
     "text": [
      "C:\\Users\\kaitlin.palmer\\Anaconda3\\envs\\ketos_env\\lib\\site-packages\\paramiko\\transport.py:219: CryptographyDeprecationWarning: Blowfish has been deprecated\n",
      "  \"class\": algorithms.Blowfish,\n",
      "C:\\Users\\kaitlin.palmer\\Anaconda3\\envs\\ketos_env\\lib\\site-packages\\keras\\optimizer_v2\\adam.py:105: UserWarning: The `lr` argument is deprecated, use `learning_rate` instead.\n",
      "  super(Adam, self).__init__(name, **kwargs)\n"
     ]
    }
   ],
   "source": [
    "import ketos.data_handling.database_interface as dbi\n",
    "from ketos.neural_networks.resnet import ResNetInterface\n",
    "from ketos.data_handling.data_feeding import BatchGenerator\n"
   ]
  },
  {
   "cell_type": "markdown",
   "metadata": {},
   "source": [
    "<a id=section2></a>"
   ]
  },
  {
   "cell_type": "markdown",
   "metadata": {},
   "source": [
    "### 2. Creating the data feed\n",
    "\n",
    "The database created in the [Creating a training database](#) tutorial organizes the data into \"train\" and \"validation\". Ketos' ``BatchGenerator`` provides an interface that makes it easy to use this database during the training process. It selects batches of data from the database and feeds it to the neural network. We are dealing with small amounts of data for the purposes of this tutorial, but this is very helpful when dealing with larger databases, which is often the case in deep learning.\n",
    "\n",
    "First, we open a connection to our database:"
   ]
  },
  {
   "cell_type": "code",
   "execution_count": 3,
   "metadata": {},
   "outputs": [],
   "source": [
    "#db = dbi.open_file(\"database.h5\", 'r')\n",
    "db = dbi.open_file(\"C:\\\\Users\\\\kaitlin.palmer\\\\Desktop\\\\KetosMinke\\\\Training Data\\\\CompletedModels\\\\20230524_01\\\\databaseMinkeTrimmed01.h5\", 'r')"
   ]
  },
  {
   "cell_type": "markdown",
   "metadata": {},
   "source": [
    "Then, we need to open the tables containing the spectrograms and annotations. All we are doing here is creating a handle to indicate where the BatchGenerator can find the spectrograms and annotations, but no data is actually loaded into memory at this point."
   ]
  },
  {
   "cell_type": "code",
   "execution_count": 4,
   "metadata": {},
   "outputs": [],
   "source": [
    "train_data = dbi.open_table(db, \"/train/data\")\n",
    "val_data = dbi.open_table(db, \"/val/data\")"
   ]
  },
  {
   "cell_type": "markdown",
   "metadata": {},
   "source": [
    "With the handles ready, we can create the two batch generators, one to load training data and another for the validation data.\n",
    "\n",
    "There are a few options we need to configure:  \n",
    "**batch_size** indicates how many data samples (spectrograms) will be loaded into memory at a time\n",
    "\n",
    "**data_table**  indicates the table handle we just created  \n",
    "\n",
    "**output_transform_func** indicates a function that transforms the data as it is loaded into memory. This can be any python function. To make the job easier, the neural network architectures availablable in ketos all have an interface that includes a transformation function to put the data into the right format for that type of neural network  \n",
    "\n",
    "**shuffle** indicates whether we want to shuffle the data before creating the batches. That's a good idea for our case because in the database our spectrograms are sorted by labels (all the 'upcalls' followed by all 'backgrounds'), but we want each batch to contain a mix\n",
    "\n",
    "**refresh_on_epoch_end** When we train the neural network, we will show it the whole training dataset several times (each time is called an 'epoch'). Setting this option to ```True``` makes the batch generator reshuffle the data at the end of each epoch, so that the batches contain different examples each time.  \n"
   ]
  },
  {
   "cell_type": "code",
   "execution_count": 5,
   "metadata": {},
   "outputs": [],
   "source": [
    "# Below is an example of a simple data transformation function\n",
    "# (However, in this tutorial we will use the ResNetInterface.transform_batch function provided by Ketos)\n",
    "def transform_batch(X, Y):\n",
    "  x = X.reshape(X.shape[0],X.shape[1],X.shape[2],1)\n",
    "  y = tf.one_hot(Y['label'], depth=2, axis=1).numpy()\n",
    "  return x, y"
   ]
  },
  {
   "cell_type": "code",
   "execution_count": 6,
   "metadata": {},
   "outputs": [],
   "source": [
    "train_generator = BatchGenerator(batch_size=128, data_table=train_data, \n",
    "                                  output_transform_func=ResNetInterface.transform_batch,\n",
    "                                  shuffle=True, refresh_on_epoch_end=True)"
   ]
  },
  {
   "cell_type": "markdown",
   "metadata": {},
   "source": [
    "For the validation generator, we'll just change the table handles. We'll also set set refresh_on_epoch_end to ```False```, so that the validation set is shuffled once before creating the batches for the first epoch but not in susequent epochs. This way, everytime we validate the models (i.e.: at the end of each training epoch) it will use the same order for the validation samples."
   ]
  },
  {
   "cell_type": "code",
   "execution_count": 9,
   "metadata": {},
   "outputs": [],
   "source": [
    "val_generator = BatchGenerator(batch_size=128, data_table=val_data,\n",
    "                                 output_transform_func=ResNetInterface.transform_batch,\n",
    "                                 shuffle=True, refresh_on_epoch_end=False)"
   ]
  },
  {
   "cell_type": "markdown",
   "metadata": {},
   "source": [
    "<a id=section3></a>"
   ]
  },
  {
   "cell_type": "markdown",
   "metadata": {},
   "source": [
    "### Creating and training the neural network\n",
    "\n",
    "For this exercise we will use a ResNet-like architecture, which is a popular architecture for image recognition and has also shown good results for audio recognition using spectral inputs.\n",
    "\n",
    "Ketos' Neural Network interfaces can use *recipes* to create a network. The recipe files are an easy way to let others reproduce the architecture you used. You can find a *recipe.json* file within the .zip file."
   ]
  },
  {
   "cell_type": "code",
   "execution_count": 10,
   "metadata": {},
   "outputs": [],
   "source": [
    "resnet = ResNetInterface.build_from_recipe_file(Path('C:\\\\Users\\\\kaitlin.palmer\\\\Desktop\\\\KetosMinke\\\\Training Data\\\\CompletedModels\\\\20230524_01\\\\recipe.json'))\n"
   ]
  },
  {
   "cell_type": "markdown",
   "metadata": {},
   "source": [
    "Notice that this creates a brand new network. That's what we want since we are training from scratch, but once the model is trained, we can also save it for later use and share it with others. That saved model will not only contain the recipe for recreating the architecture, but also the weights optimized (or learned) during the training process and can, therefore, be used without the need for training again (or access to the training data).\n",
    "\n",
    "Before we start training, we just need to connect the batch generators we created to the network interface, so it can access the data as it needs."
   ]
  },
  {
   "cell_type": "code",
   "execution_count": 11,
   "metadata": {},
   "outputs": [],
   "source": [
    "resnet.train_generator = train_generator\n",
    "resnet.val_generator = val_generator"
   ]
  },
  {
   "cell_type": "markdown",
   "metadata": {},
   "source": [
    "We also need to set where we want to save our model's checkpoints. By default, ketos will save the model progress every 5 epochs (this can be adjusted by the checkpoint_freq parameter in the train_loop method, but we'll use the default). If the folder does not yet exist, Ketos will create it. Later when we save the model, Ketos will take the latest checkpoint and include it in the model file."
   ]
  },
  {
   "cell_type": "code",
   "execution_count": 12,
   "metadata": {},
   "outputs": [],
   "source": [
    "resnet.checkpoint_dir = \"C:\\\\Users\\\\kaitlin.palmer\\\\Desktop\\\\KetosMinke\\\\Training Data\\\\CompletedModels\\\\20230524_01\\\\Checkpoints\""
   ]
  },
  {
   "cell_type": "markdown",
   "metadata": {},
   "source": [
    "We train our upcall/background classifier by calling the *train_loop* method in our resnet object. In the example below, we specify the number of epochs, which indicates how many times the network will go through the training dataset in order to learn usefull features for classification. We also set the verbose parameter to ``True``, which will print some summary metrics during the training.\n",
    "\n",
    "Given the simple task/database we are using for this tutorial, 30 epochs should give us a reasonably good classifier to build a detector in part 2. If you are following along, please notice that it might take a while, depending on your computer (about 60 min on an average laptop)."
   ]
  },
  {
   "cell_type": "code",
   "execution_count": null,
   "metadata": {},
   "outputs": [
    {
     "name": "stdout",
     "output_type": "stream",
     "text": [
      "\n",
      "====================================================================================\n",
      "Epoch: 1 \n",
      "train_loss: 0.16833868622779846\n",
      "train_CategoricalAccuracy: 0.867 train_Precision: 0.980 train_Recall: 0.750 \n",
      "val_loss: 0.4947980046272278\n",
      "val_CategoricalAccuracy: 0.500 val_Precision: 0.000 val_Recall: 0.000 \n",
      "\n",
      "====================================================================================\n",
      "\n",
      "====================================================================================\n",
      "Epoch: 2 \n",
      "train_loss: 0.09012166410684586\n",
      "train_CategoricalAccuracy: 0.919 train_Precision: 0.969 train_Recall: 0.866 \n",
      "val_loss: 0.4997635781764984\n",
      "val_CategoricalAccuracy: 0.500 val_Precision: 0.000 val_Recall: 0.000 \n",
      "\n",
      "====================================================================================\n"
     ]
    }
   ],
   "source": [
    "resnet.train_loop(n_epochs=20, verbose=True)"
   ]
  },
  {
   "cell_type": "markdown",
   "metadata": {},
   "source": [
    "After training is done, we can close the database"
   ]
  },
  {
   "cell_type": "code",
   "execution_count": null,
   "metadata": {},
   "outputs": [],
   "source": [
    "db.close()"
   ]
  },
  {
   "cell_type": "markdown",
   "metadata": {},
   "source": [
    "And finally save the model"
   ]
  },
  {
   "cell_type": "code",
   "execution_count": null,
   "metadata": {},
   "outputs": [],
   "source": [
    "import os\n",
    "from ketos.neural_networks.dev_utils.export import export_to_ketos_protobuf\n",
    "from ketos.data_handling.parsing import load_audio_representation\n",
    "spec_cfg = load_audio_representation('C:\\\\Users\\\\kaitlin.palmer\\\\Documents\\\\GitHub\\\\BlueWhaleAKetosModel\\\\CompletedModels\\\\20230406_03\\\\spec_configBlueWhaleA_512_512_80hz_125_hz.json', \n",
    "                                     name=\"spectrogram\")\n",
    "#os.getcwd()\n",
    "\n",
    "#resnet.save_model('C:\\\\Users\\\\kaitlin.palmer\\\\Documents\\\\GitHub\\\\BlueWhaleAKetosModel\\\\Code\\\\BuildTrainingData\\\\bluewhaleA.kt',\n",
    "#                 audio_repr_file='spec_configBlueWhaleA.json')\n",
    "\n",
    "export_to_ketos_protobuf(resnet, 'C:\\\\Users\\\\kaitlin.palmer\\\\Documents\\\\GitHub\\\\BlueWhaleAKetosModel\\\\CompletedModels\\\\20230406_03\\\\bwA_kp_512_512_80hz_125_hz.ktpb', audio_repr=spec_cfg)\n",
    "os.getcwd()"
   ]
  },
  {
   "cell_type": "markdown",
   "metadata": {},
   "source": [
    "The command above will create the narw.kt file in the same directory where you are running this notebook (or the working directory for you session if you are running the python interpreter elsewhere). You can also specify a different folder and name, like ```resnet.save_model('trained_classifiers/my_classifier.kt')```.\n",
    "The ```audio_repr_file``` argument can be used to add an audio specification to the model file. This is useful when reusing the model because it makes the settings used to process the audio available within the model file. If this argument is omitted or set to ```None```, the settings will not be added to the model file.\n"
   ]
  },
  {
   "cell_type": "markdown",
   "metadata": {},
   "source": [
    "This classifier works with 3 seconds long spectrograms as inputs.\n",
    "\n",
    "We won't actually use it directly, as our goal is to build a detector that will scan a longer .wav file (e.g.: 30min) and output time stamps for indicating when right whales are present. That's the topic of our [next step](https://docs.meridian.cs.dal.ca/ketos/tutorials/create_a_narw_detector/index.html), in which we will use the classifier we just trained to built our right whale detector."
   ]
  }
 ],
 "metadata": {
  "kernelspec": {
   "display_name": "Python 3 (ipykernel)",
   "language": "python",
   "name": "python3"
  },
  "language_info": {
   "codemirror_mode": {
    "name": "ipython",
    "version": 3
   },
   "file_extension": ".py",
   "mimetype": "text/x-python",
   "name": "python",
   "nbconvert_exporter": "python",
   "pygments_lexer": "ipython3",
   "version": "3.8.16"
  }
 },
 "nbformat": 4,
 "nbformat_minor": 4
}
